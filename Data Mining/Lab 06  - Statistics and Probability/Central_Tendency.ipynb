{
 "cells": [
  {
   "cell_type": "markdown",
   "metadata": {},
   "source": [
    "# Central Tendency"
   ]
  },
  {
   "cell_type": "markdown",
   "metadata": {},
   "source": [
    "Mean, Median, and Mode"
   ]
  },
  {
   "cell_type": "markdown",
   "metadata": {},
   "source": [
    "#Mean - The average value\n",
    "#Median - The mid point value\n",
    "#Mode - The most common value"
   ]
  },
  {
   "cell_type": "markdown",
   "metadata": {},
   "source": [
    "# Mean"
   ]
  },
  {
   "cell_type": "code",
   "execution_count": 2,
   "metadata": {},
   "outputs": [],
   "source": [
    "#Example: We have registered the speed of 13 cars:\n",
    "speed = [99,86,87,88,111,86,103,87,94,78,77,85,86]\n",
    "#What is the average, the middle, or the most common speed value?"
   ]
  },
  {
   "cell_type": "code",
   "execution_count": 10,
   "metadata": {},
   "outputs": [
    {
     "name": "stdout",
     "output_type": "stream",
     "text": [
      "89.76923076923077\n",
      " 89.77\n"
     ]
    }
   ],
   "source": [
    "mean= (99+86+87+88+111+86+103+87+94+78+77+85+86) / 13 \n",
    "sum=0\n",
    "count=0\n",
    "for x in speed:\n",
    "    count=count+1\n",
    "    sum=sum+x\n",
    "mean=sum/count\n",
    "print(mean)\n",
    "print('% 0.2f' % mean)"
   ]
  },
  {
   "cell_type": "code",
   "execution_count": 7,
   "metadata": {},
   "outputs": [
    {
     "name": "stdout",
     "output_type": "stream",
     "text": [
      "89.76923076923077\n",
      "111\n",
      "77\n"
     ]
    }
   ],
   "source": [
    "speed = [99,86,87,88,111,86,103,87,94,78,77,85,86]\n",
    "x=sum(speed) / len(speed)\n",
    "print(x)\n",
    "print(max(speed))\n",
    "print(min(speed))\n",
    "#print(avg(speed))"
   ]
  },
  {
   "cell_type": "markdown",
   "metadata": {},
   "source": [
    "The NumPy module has a method for this:"
   ]
  },
  {
   "cell_type": "code",
   "execution_count": 8,
   "metadata": {},
   "outputs": [
    {
     "name": "stdout",
     "output_type": "stream",
     "text": [
      "89.76923076923077\n"
     ]
    }
   ],
   "source": [
    "#Use the NumPy mean() method to find the average speed:\n",
    "import numpy\n",
    "speed = [99,86,87,88,111,86,103,87,94,78,77,85,86]\n",
    "x = numpy.mean(speed)\n",
    "print(x)"
   ]
  },
  {
   "cell_type": "markdown",
   "metadata": {},
   "source": [
    "# Median"
   ]
  },
  {
   "cell_type": "code",
   "execution_count": 13,
   "metadata": {},
   "outputs": [
    {
     "name": "stdout",
     "output_type": "stream",
     "text": [
      "86.5\n"
     ]
    }
   ],
   "source": [
    "#Use the NumPy median() method to find the middle value:\n",
    "import numpy\n",
    "#speed = [99,86,87,88,111,86,103,87,94,78,77,85,86] # odd list\n",
    "speed = [99,86,87,88,86,103,87,94,78,77,85,86] # even list\n",
    "x = numpy.median(speed)\n",
    "print(x)"
   ]
  },
  {
   "cell_type": "markdown",
   "metadata": {},
   "source": [
    "# Mode"
   ]
  },
  {
   "cell_type": "markdown",
   "metadata": {},
   "source": [
    "The SciPy module has a method for this:"
   ]
  },
  {
   "cell_type": "code",
   "execution_count": null,
   "metadata": {},
   "outputs": [],
   "source": [
    "Use the SciPy mode() method to find the number that appears the most:"
   ]
  },
  {
   "cell_type": "code",
   "execution_count": 24,
   "metadata": {},
   "outputs": [
    {
     "name": "stdout",
     "output_type": "stream",
     "text": [
      "ModeResult(mode=array([86]), count=array([3]))\n",
      "[86]\n",
      "86\n",
      "[3]\n"
     ]
    }
   ],
   "source": [
    "from scipy import stats\n",
    "speed = [99,86,87,88,111,86,103,87,94,78,77,85,86]\n",
    "x = stats.mode(speed)\n",
    "print(x)\n",
    "print(x.mode)\n",
    "print(x.mode[0])\n",
    "print(x.count)\n",
    "#print(x.multimode)\n",
    "#print(stats.quantiles(speed))"
   ]
  },
  {
   "cell_type": "markdown",
   "metadata": {},
   "source": [
    "# statistics — Mathematical statistics functions"
   ]
  },
  {
   "cell_type": "markdown",
   "metadata": {},
   "source": [
    "Averages and measures of central location\n",
    "These functions calculate an average or typical value from a population or sample.\n",
    "\n",
    "#mean()\tArithmetic mean (“average”) of data.\n",
    "#median()\tMedian (middle value) of data.\n",
    "#median_low()\tLow median of data.\n",
    "#median_high()\tHigh median of data.\n",
    "#median_grouped()\tMedian, or 50th percentile, of grouped data.\n",
    "#mode()\tMode (most common value) of discrete data.\n",
    "#quantiles()Divide data into intervals with equal probability."
   ]
  },
  {
   "cell_type": "code",
   "execution_count": 26,
   "metadata": {},
   "outputs": [
    {
     "name": "stdout",
     "output_type": "stream",
     "text": [
      "2.8\n",
      "3\n",
      "4\n",
      "red\n",
      "c\n"
     ]
    }
   ],
   "source": [
    "from statistics import mean, median, mode\n",
    "l=[1, 2, 3, 4, 4]\n",
    "print(mean(l))\n",
    "print(median(l))\n",
    "print(mode(l))\n",
    "print(mode([\"red\", \"blue\", \"blue\", \"red\", \"green\", \"red\", \"red\"]))\n",
    "print(mode('abccde'))\n",
    "#print(quantiles(l))\n",
    "#print(mode('abccdee')) # multimode"
   ]
  },
  {
   "cell_type": "code",
   "execution_count": null,
   "metadata": {},
   "outputs": [],
   "source": [
    "l=[1, 2,2, 3, 4, 4]"
   ]
  },
  {
   "cell_type": "code",
   "execution_count": 27,
   "metadata": {},
   "outputs": [],
   "source": [
    "#from statistics import  multimode\n",
    "#multimode('aabbbbccddddeeffffgg')\n",
    "#multimode('')"
   ]
  },
  {
   "cell_type": "code",
   "execution_count": 28,
   "metadata": {},
   "outputs": [],
   "source": [
    "#import statistics.multimode\n",
    "#multimode('aabbbbccddddeeffffgg')\n",
    "#print(multimode('aabbbbccddddeeffffgg'))"
   ]
  },
  {
   "cell_type": "code",
   "execution_count": 13,
   "metadata": {},
   "outputs": [
    {
     "name": "stdout",
     "output_type": "stream",
     "text": [
      "Mode:  0 Count:  2\n",
      "Mode:  3 Count:  2\n",
      "Mode:  3 Count:  2\n",
      "Mode:  0 Count:  2\n",
      "None\n"
     ]
    }
   ],
   "source": [
    "def compute_mode(numbers):\n",
    "    mode = 0\n",
    "    count = 0\n",
    "    maxcount = 0\n",
    "    for number in numbers:\n",
    "        count = numbers.count(number)\n",
    "        if count >= maxcount:\n",
    "            maxcount = count\n",
    "            mode = number\n",
    "            print(\"Mode: \", mode, \"Count: \", maxcount)\n",
    "            \n",
    "print(compute_mode([0,1,3,5,7,3,0]))        "
   ]
  },
  {
   "cell_type": "code",
   "execution_count": 31,
   "metadata": {},
   "outputs": [
    {
     "name": "stdout",
     "output_type": "stream",
     "text": [
      "Counter({0: 2, 3: 2, 1: 1, 5: 1, 7: 1})\n",
      "<class 'collections.Counter'>\n",
      "2\n"
     ]
    },
    {
     "ename": "TypeError",
     "evalue": "'int' object is not iterable",
     "output_type": "error",
     "traceback": [
      "\u001b[1;31m-----------------------------------------------------------------------\u001b[0m",
      "\u001b[1;31mTypeError\u001b[0m                             Traceback (most recent call last)",
      "\u001b[1;32m<ipython-input-31-1cacbdbf6e8f>\u001b[0m in \u001b[0;36m<module>\u001b[1;34m()\u001b[0m\n\u001b[0;32m     10\u001b[0m         \u001b[1;32mif\u001b[0m \u001b[0mcount\u001b[0m \u001b[1;33m==\u001b[0m \u001b[0mmaxcount\u001b[0m\u001b[1;33m:\u001b[0m\u001b[1;33m\u001b[0m\u001b[0m\n\u001b[0;32m     11\u001b[0m             \u001b[0mprint\u001b[0m\u001b[1;33m(\u001b[0m\u001b[0mnum\u001b[0m\u001b[1;33m,\u001b[0m \u001b[0mcount\u001b[0m\u001b[1;33m)\u001b[0m\u001b[1;33m\u001b[0m\u001b[0m\n\u001b[1;32m---> 12\u001b[1;33m \u001b[0mprint\u001b[0m\u001b[1;33m(\u001b[0m\u001b[0mcompute_mode\u001b[0m\u001b[1;33m(\u001b[0m\u001b[1;33m[\u001b[0m\u001b[1;36m0\u001b[0m\u001b[1;33m,\u001b[0m\u001b[1;36m1\u001b[0m\u001b[1;33m,\u001b[0m\u001b[1;36m3\u001b[0m\u001b[1;33m,\u001b[0m\u001b[1;36m5\u001b[0m\u001b[1;33m,\u001b[0m\u001b[1;36m7\u001b[0m\u001b[1;33m,\u001b[0m\u001b[1;36m3\u001b[0m\u001b[1;33m,\u001b[0m\u001b[1;36m0\u001b[0m\u001b[1;33m]\u001b[0m\u001b[1;33m)\u001b[0m\u001b[1;33m)\u001b[0m\u001b[1;33m\u001b[0m\u001b[0m\n\u001b[0m",
      "\u001b[1;32m<ipython-input-31-1cacbdbf6e8f>\u001b[0m in \u001b[0;36mcompute_mode\u001b[1;34m(numbers)\u001b[0m\n\u001b[0;32m      7\u001b[0m     \u001b[0mmaxcount\u001b[0m \u001b[1;33m=\u001b[0m \u001b[0mmax\u001b[0m\u001b[1;33m(\u001b[0m\u001b[0mcounts\u001b[0m\u001b[1;33m.\u001b[0m\u001b[0mvalues\u001b[0m\u001b[1;33m(\u001b[0m\u001b[1;33m)\u001b[0m\u001b[1;33m)\u001b[0m\u001b[1;33m\u001b[0m\u001b[0m\n\u001b[0;32m      8\u001b[0m     \u001b[0mprint\u001b[0m\u001b[1;33m(\u001b[0m\u001b[0mmaxcount\u001b[0m\u001b[1;33m)\u001b[0m\u001b[1;33m\u001b[0m\u001b[0m\n\u001b[1;32m----> 9\u001b[1;33m     \u001b[1;32mfor\u001b[0m \u001b[0mnum\u001b[0m\u001b[1;33m,\u001b[0m\u001b[0mcount\u001b[0m \u001b[1;32min\u001b[0m \u001b[0mcounts\u001b[0m\u001b[1;33m:\u001b[0m\u001b[1;33m\u001b[0m\u001b[0m\n\u001b[0m\u001b[0;32m     10\u001b[0m         \u001b[1;32mif\u001b[0m \u001b[0mcount\u001b[0m \u001b[1;33m==\u001b[0m \u001b[0mmaxcount\u001b[0m\u001b[1;33m:\u001b[0m\u001b[1;33m\u001b[0m\u001b[0m\n\u001b[0;32m     11\u001b[0m             \u001b[0mprint\u001b[0m\u001b[1;33m(\u001b[0m\u001b[0mnum\u001b[0m\u001b[1;33m,\u001b[0m \u001b[0mcount\u001b[0m\u001b[1;33m)\u001b[0m\u001b[1;33m\u001b[0m\u001b[0m\n",
      "\u001b[1;31mTypeError\u001b[0m: 'int' object is not iterable"
     ]
    }
   ],
   "source": [
    "from collections import Counter\n",
    "\n",
    "def compute_mode(numbers):\n",
    "    counts = Counter(numbers)\n",
    "    print(counts)\n",
    "    print(type(counts))\n",
    "    maxcount = max(counts.values())\n",
    "    print(maxcount)\n",
    "    for num,count in counts:\n",
    "        if count == maxcount:\n",
    "            print(num, count)\n",
    "print(compute_mode([0,1,3,5,7,3,0]))  "
   ]
  },
  {
   "cell_type": "code",
   "execution_count": 25,
   "metadata": {},
   "outputs": [
    {
     "name": "stdout",
     "output_type": "stream",
     "text": [
      "0 2\n",
      "3 2\n",
      "None\n"
     ]
    }
   ],
   "source": [
    "def compute_mode(numbers):\n",
    "    counts = {}\n",
    "    maxcount = 0\n",
    "    for number in numbers:\n",
    "        if number not in counts:\n",
    "            counts[number] = 0\n",
    "        counts[number] += 1\n",
    "        if counts[number] > maxcount:\n",
    "            maxcount = counts[number]\n",
    "\n",
    "    for number, count in counts.items():\n",
    "        if count == maxcount:\n",
    "            print(number, count)\n",
    "print(compute_mode([0,1,3,5,7,3,0])) "
   ]
  },
  {
   "cell_type": "code",
   "execution_count": 14,
   "metadata": {},
   "outputs": [
    {
     "name": "stdout",
     "output_type": "stream",
     "text": [
      "[3, 4, 6]\n"
     ]
    }
   ],
   "source": [
    "from collections import Counter\n",
    "from itertools import groupby\n",
    "\n",
    "l = [1,2,3,3,3,4,4,4,5,5,6,6,6]\n",
    "\n",
    "# group most_common output by frequency\n",
    "freqs = groupby(Counter(l).most_common(), lambda x:x[1])\n",
    "# pick off the first group (highest frequency)\n",
    "print([val for val,count in next(freqs)[1]])\n",
    "# prints [3, 4, 6]"
   ]
  }
 ],
 "metadata": {
  "kernelspec": {
   "display_name": "Python 3",
   "language": "python",
   "name": "python3"
  },
  "language_info": {
   "codemirror_mode": {
    "name": "ipython",
    "version": 3
   },
   "file_extension": ".py",
   "mimetype": "text/x-python",
   "name": "python",
   "nbconvert_exporter": "python",
   "pygments_lexer": "ipython3",
   "version": "3.6.5"
  }
 },
 "nbformat": 4,
 "nbformat_minor": 2
}
